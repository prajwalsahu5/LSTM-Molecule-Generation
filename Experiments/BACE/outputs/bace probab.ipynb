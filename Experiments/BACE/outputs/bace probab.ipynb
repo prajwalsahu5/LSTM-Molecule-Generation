{
 "cells": [
  {
   "cell_type": "code",
   "execution_count": 2,
   "metadata": {},
   "outputs": [],
   "source": [
    "import pandas as pd"
   ]
  },
  {
   "cell_type": "code",
   "execution_count": 3,
   "metadata": {},
   "outputs": [],
   "source": [
    "df = pd.read_csv('bbbp_fsr_probab.csv')"
   ]
  },
  {
   "cell_type": "code",
   "execution_count": 4,
   "metadata": {},
   "outputs": [
    {
     "data": {
      "text/plain": [
       "(array([ 1.,  0.,  0.,  0.,  2.,  2.,  2.,  2.,  6.,  3., 10.,  5.,  7.,\n",
       "        12., 10., 12.,  4.,  8.,  8.,  6.]),\n",
       " array([0.53795552, 0.55553919, 0.57312285, 0.59070652, 0.60829018,\n",
       "        0.62587385, 0.64345751, 0.66104118, 0.67862484, 0.69620851,\n",
       "        0.71379218, 0.73137584, 0.74895951, 0.76654317, 0.78412684,\n",
       "        0.8017105 , 0.81929417, 0.83687783, 0.8544615 , 0.87204516,\n",
       "        0.88962883]),\n",
       " <BarContainer object of 20 artists>)"
      ]
     },
     "execution_count": 4,
     "metadata": {},
     "output_type": "execute_result"
    },
    {
     "data": {
      "image/png": "[encoded data removed]",
      "text/plain": [
       "<Figure size 432x288 with 1 Axes>"
      ]
     },
     "metadata": {
      "needs_background": "light"
     },
     "output_type": "display_data"
    }
   ],
   "source": [
    "import matplotlib.pyplot as plt\n",
    "plt.title('Probability Distribution of BBBP')\n",
    "plt.hist(df.Probability, bins = 20)"
   ]
  },
  {
   "cell_type": "code",
   "execution_count": null,
   "metadata": {},
   "outputs": [],
   "source": []
  }
 ],
 "metadata": {
  "kernelspec": {
   "display_name": "myenv",
   "language": "python",
   "name": "myenv"
  },
  "language_info": {
   "codemirror_mode": {
    "name": "ipython",
    "version": 3
   },
   "file_extension": ".py",
   "mimetype": "text/x-python",
   "name": "python",
   "nbconvert_exporter": "python",
   "pygments_lexer": "ipython3",
   "version": "3.8.8"
  },
  "orig_nbformat": 4
 },
 "nbformat": 4,
 "nbformat_minor": 2
}
